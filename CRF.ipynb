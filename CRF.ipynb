{
  "cells": [
    {
      "cell_type": "markdown",
      "metadata": {
        "id": "EI5qL2I3lO_r"
      },
      "source": [
        "### Read data"
      ]
    },
    {
      "cell_type": "code",
      "source": [
        "#!pip install --force-reinstall --no-dependencies \"scikit-learn==0.24.2\"\n",
        "#!pip install sklearn-crfsuite"
      ],
      "metadata": {
        "id": "9yPR_QExOOIs"
      },
      "execution_count": 1,
      "outputs": []
    },
    {
      "cell_type": "code",
      "execution_count": 2,
      "metadata": {
        "id": "iH-sM8MIlO_y"
      },
      "outputs": [],
      "source": [
        "def read_file(f):\n",
        "    data = open(f,'r').readlines()[1:]\n",
        "    row_id = [i.split('\\t')[0].strip() for i in data]\n",
        "    data = [i.split('\\t')[1].strip().split(' ') for i in data]\n",
        "    return row_id,data"
      ]
    },
    {
      "cell_type": "code",
      "execution_count": 3,
      "metadata": {
        "id": "hGg_Lq_VlO_1"
      },
      "outputs": [],
      "source": [
        "row_id_text, texts = read_file('/content/REVIEW_TEXT.txt')\n",
        "row_id_tags, tags = read_file('/content/REVIEW_LABELSEQ.txt')\n",
        "\n",
        "\n",
        "\n"
      ]
    },
    {
      "cell_type": "markdown",
      "metadata": {
        "id": "VxiE1S7hlO_1"
      },
      "source": [
        "### Two entities of interest -- AE (adverse events) and SSI (signs, symptoms, and indications).\n",
        "\n",
        "We use BIO scheme: \n",
        "\n",
        "     B- to denote beginning of a tagged named entity, \n",
        "     \n",
        "     I- to denote inside a tagged named entity tag, \n",
        "     \n",
        "     O to denote outside of any tagged named entity \n",
        "     \n",
        "So, your sequential labeling task has five tags: B-AE, I-AE, B-SSI, I-SSI, and O."
      ]
    },
    {
      "cell_type": "code",
      "execution_count": 4,
      "metadata": {
        "colab": {
          "base_uri": "https://localhost:8080/"
        },
        "id": "vGwimVTUlO_3",
        "outputId": "b19a26a9-fa23-4c12-c4ef-c9fe8d795fbc"
      },
      "outputs": [
        {
          "output_type": "stream",
          "name": "stdout",
          "text": [
            "num of data 4744\n",
            "-----------------------------------------------------------------------------------------\n",
            "Token\tTag\n",
            "I \t O\n",
            "had \t O\n",
            "terrible \t B-AE\n",
            "anxiety \t I-AE\n",
            "the \t I-AE\n",
            "whole \t I-AE\n",
            "time \t I-AE\n",
            ", \t O\n",
            "the \t B-AE\n",
            "worst \t I-AE\n",
            "kind \t I-AE\n",
            "of \t I-AE\n",
            "anxiety \t I-AE\n",
            "I've \t O\n",
            "ever \t O\n",
            "experienced. \t O\n"
          ]
        }
      ],
      "source": [
        "index = 5\n",
        "print('num of data', len(row_id_text))\n",
        "assert len(row_id_text) == len(row_id_tags)\n",
        "######## label dataset \n",
        "\n",
        "print('-'*89)\n",
        "print('Token\\tTag')\n",
        "for idx in range(len(texts[index])):\n",
        "    print(texts[index][idx], '\\t', tags[index][idx])"
      ]
    },
    {
      "cell_type": "code",
      "execution_count": 5,
      "metadata": {
        "colab": {
          "base_uri": "https://localhost:8080/"
        },
        "id": "VVmEjjYvlO_5",
        "outputId": "9e71a18d-ddb7-496d-94a4-7a55e84ee220"
      },
      "outputs": [
        {
          "output_type": "stream",
          "name": "stdout",
          "text": [
            "Token\tTag\n",
            "constipation \t B-AE\n",
            ", \t O\n",
            "drastic \t B-AE\n",
            "mood \t I-AE\n",
            "swings \t I-AE\n",
            ", \t O\n",
            "100% \t O\n",
            "helped \t O\n",
            "my \t O\n",
            "anxiety \t B-SSI\n",
            "and \t O\n",
            "panic \t B-SSI\n",
            ". \t O\n"
          ]
        }
      ],
      "source": [
        "index = 22\n",
        "print('Token\\tTag')\n",
        "for idx in range(len(texts[index])):\n",
        "    print(texts[index][idx], '\\t', tags[index][idx])"
      ]
    },
    {
      "cell_type": "markdown",
      "metadata": {
        "id": "wYUqXB48lO_5"
      },
      "source": [
        "### Inputs"
      ]
    },
    {
      "cell_type": "code",
      "execution_count": 35,
      "metadata": {
        "id": "3ZMFt9nilO_6"
      },
      "outputs": [],
      "source": [
        "import numpy as np\n",
        "from gensim.models import KeyedVectors\n",
        "import string\n",
        "\n",
        "# def get_features(word):\n",
        "#     word=word.lower()\n",
        "#     try:\n",
        "#       # Load vectors directly from the file\n",
        "#         model1 = KeyedVectors.load_word2vec_format('GoogleNews-vectors-negative300.bin', binary=True) ### Loading pre-trainned word2vec model\n",
        "#         vector=model1[word]\n",
        "#     except:\n",
        "#         # if the word is not in vocabulary,\n",
        "#         # returns zeros array\n",
        "#         vector=np.zeros(300,)\n",
        "\n",
        "#     return vector   \n",
        "\n",
        "def word2features(word):\n",
        "    # word = sent[i][0]\n",
        "    # wordembdding=get_features(word)   ## word embedding vector \n",
        "    # postag = sent[i][1]\n",
        "    # tag1=sent[i][2]\n",
        "    # tag2=sent[i][4]\n",
        "    # tag3 = sent[i][5]\n",
        "    # print(word)\n",
        "    features = {\n",
        "        'bias': 1.0,\n",
        "        'word.lower()': word.lower(),\n",
        "        'word[-3:]': word[-3:],\n",
        "        'word[-2:]': word[-2:],\n",
        "        'word.isupper()': word.isupper(),\n",
        "        'word.istitle()': word.istitle(),\n",
        "        'word.isdigit()': word.isdigit(),\n",
        "        # 'word.isalpha()': word.isalpha(),\n",
        "        # 'word.ispace()' : word.isspace(),\n",
        "        # 'len(word)' : len(word),\n",
        "        # 'word[-4:]': word[-4:],\n",
        "        # 'word[-5:]': word[-5:],\n",
        "        # 'prefix_1' : word[0],\n",
        "\n",
        "    }\n",
        "    # features = {\n",
        "    #     'word.lower()': word.lower(),  # \n",
        "    #     'word.isdigit()': word.isdigit(), \n",
        "        \n",
        "    #     ## you can add more feature extractor here\n",
        "    #     # https://sklearn-crfsuite.readthedocs.io/en/latest/tutorial.html#features\n",
        "    # }\n",
        "    return features\n",
        "\n",
        "def text2features(text):\n",
        "    return [word2features(i) for i in text]\n"
      ]
    },
    {
      "cell_type": "code",
      "execution_count": 36,
      "metadata": {
        "id": "G6xyu85xlO_6"
      },
      "outputs": [],
      "source": [
        "X = [text2features(text) for text in texts]\n",
        "y = tags\n",
        "# y"
      ]
    },
    {
      "cell_type": "markdown",
      "metadata": {
        "id": "un8D5w_RlO_6"
      },
      "source": [
        "### Train / Validation sets"
      ]
    },
    {
      "cell_type": "code",
      "execution_count": 37,
      "metadata": {
        "id": "THFALz_elO_7"
      },
      "outputs": [],
      "source": [
        "from sklearn.model_selection import train_test_split\n",
        "X_train, X_validation, y_train, y_validation = train_test_split(X, y, test_size = 0.2, random_state=42)"
      ]
    },
    {
      "cell_type": "markdown",
      "metadata": {
        "id": "FIdsPE9DlO_7"
      },
      "source": [
        "### CRF model"
      ]
    },
    {
      "cell_type": "code",
      "execution_count": 38,
      "metadata": {
        "id": "dR51nqhulO_8"
      },
      "outputs": [],
      "source": [
        "# https://sklearn-crfsuite.readthedocs.io/en/latest/\n",
        "\n",
        "from sklearn_crfsuite import CRF\n",
        "crf = CRF()"
      ]
    },
    {
      "cell_type": "markdown",
      "metadata": {
        "id": "LNsUJfhNlO_8"
      },
      "source": [
        "### Training & Prediction"
      ]
    },
    {
      "cell_type": "code",
      "execution_count": 39,
      "metadata": {
        "id": "7pgkaBhslO_9"
      },
      "outputs": [],
      "source": [
        "crf.fit(X_train, y_train) # train step \n",
        "y_pred = crf.predict(X_validation) # inference step"
      ]
    },
    {
      "cell_type": "markdown",
      "metadata": {
        "id": "v2EABgFxlO_9"
      },
      "source": [
        "### Result"
      ]
    },
    {
      "cell_type": "code",
      "execution_count": 40,
      "metadata": {
        "colab": {
          "base_uri": "https://localhost:8080/"
        },
        "id": "XKRZVamolO_9",
        "outputId": "565e2eac-19c6-4f19-e00b-237ee382a00f"
      },
      "outputs": [
        {
          "output_type": "stream",
          "name": "stdout",
          "text": [
            "              precision    recall  f1-score   support\n",
            "\n",
            "        B-AE       0.73      0.53      0.62       752\n",
            "       B-SSI       0.76      0.49      0.60       168\n",
            "        I-AE       0.66      0.43      0.53      1485\n",
            "       I-SSI       0.16      0.05      0.07        66\n",
            "           O       0.90      0.97      0.93     11859\n",
            "\n",
            "    accuracy                           0.88     14330\n",
            "   macro avg       0.64      0.49      0.55     14330\n",
            "weighted avg       0.87      0.88      0.87     14330\n",
            "\n"
          ]
        },
        {
          "output_type": "stream",
          "name": "stderr",
          "text": [
            "/usr/local/lib/python3.9/dist-packages/sklearn/utils/validation.py:70: FutureWarning: Pass labels=None as keyword args. From version 1.0 (renaming of 0.25) passing these as positional arguments will result in an error\n",
            "  warnings.warn(f\"Pass {args_msg} as keyword args. From version \"\n"
          ]
        }
      ],
      "source": [
        "\n",
        "from sklearn_crfsuite.metrics import flat_classification_report\n",
        "report = flat_classification_report(y_validation, y_pred)\n",
        "print(report)"
      ]
    },
    {
      "cell_type": "code",
      "source": [
        "#!pip3 install scikit-learn"
      ],
      "metadata": {
        "id": "Qekhxv8U6PO1"
      },
      "execution_count": 12,
      "outputs": []
    },
    {
      "cell_type": "code",
      "execution_count": 41,
      "metadata": {
        "id": "aZiEF1eGlO_-"
      },
      "outputs": [],
      "source": [
        "# find instruction of hyperparameters here :https://sklearn-crfsuite.readthedocs.io/en/latest/api.html\n",
        "from sklearn.model_selection import RandomizedSearchCV, GridSearchCV, train_test_split\n",
        "from sklearn_crfsuite import scorers\n",
        "from sklearn_crfsuite import metrics\n",
        "from sklearn.metrics import make_scorer\n",
        "import sklearn\n",
        "import scipy.stats\n",
        "\n",
        "crf = CRF(algorithm='lbfgs', # Gradient descent using the L-BFGS method\n",
        "     # The coefficient for L1 regularization.\n",
        "     c1=0.1,\n",
        "    c2=0.1,  # The coefficient for L1 regularization.\n",
        "    max_iterations=50,\n",
        "    all_possible_transitions=True)\n"
      ]
    },
    {
      "cell_type": "code",
      "source": [
        "# from sklearn.model_selection import cross_val_predict, cross_val_score\n",
        "# pred = cross_val_predict(estimator=crf, X=X, y=y, cv=6)\n",
        "# report = flat_classification_report(y_validation, y_pred)\n",
        "# print(report)"
      ],
      "metadata": {
        "id": "TxfhKR1DCFjD"
      },
      "execution_count": 14,
      "outputs": []
    },
    {
      "cell_type": "code",
      "source": [
        "crf.fit(X_train, y_train) # train step \n",
        "y_pred = crf.predict(X_validation) # inference step\n",
        "report = flat_classification_report(y_validation, y_pred)\n",
        "print(report)"
      ],
      "metadata": {
        "colab": {
          "base_uri": "https://localhost:8080/"
        },
        "id": "gaBY0lOR738F",
        "outputId": "a9201f3a-fb67-4726-fc34-6c5a4aad27d8"
      },
      "execution_count": 42,
      "outputs": [
        {
          "output_type": "stream",
          "name": "stderr",
          "text": [
            "/usr/local/lib/python3.9/dist-packages/sklearn/utils/validation.py:70: FutureWarning: Pass labels=None as keyword args. From version 1.0 (renaming of 0.25) passing these as positional arguments will result in an error\n",
            "  warnings.warn(f\"Pass {args_msg} as keyword args. From version \"\n"
          ]
        },
        {
          "output_type": "stream",
          "name": "stdout",
          "text": [
            "              precision    recall  f1-score   support\n",
            "\n",
            "        B-AE       0.72      0.61      0.66       752\n",
            "       B-SSI       0.73      0.57      0.64       168\n",
            "        I-AE       0.67      0.51      0.58      1485\n",
            "       I-SSI       0.09      0.05      0.06        66\n",
            "           O       0.92      0.96      0.94     11859\n",
            "\n",
            "    accuracy                           0.89     14330\n",
            "   macro avg       0.63      0.54      0.58     14330\n",
            "weighted avg       0.88      0.89      0.88     14330\n",
            "\n"
          ]
        }
      ]
    },
    {
      "cell_type": "code",
      "source": [
        "#!pip install --upgrade sklearn-crfsuite\n",
        "\n",
        "#!pip install -U 'scikit-learn<0.24'"
      ],
      "metadata": {
        "id": "ZqFQBO4X_xFl"
      },
      "execution_count": 16,
      "outputs": []
    },
    {
      "cell_type": "code",
      "source": [
        "# #Using GridSearchCV for best hyperparameters\n",
        "# from sklearn.model_selection import GridSearchCV\n",
        "# from sklearn_crfsuite import CRF\n",
        "\n",
        "# # Define hyperparameter search space\n",
        "# params_space = {\n",
        "#     'algorithm': ['lbfgs', 'l2sgd', 'ap'],\n",
        "#     'c1': [0.1, 0.2, 0.01],\n",
        "#     'c2': [0.1, 0.2, 0.01],\n",
        "#     'max_iterations': [20, 50, 100, 40],\n",
        "#     'all_possible_transitions': [True, False],\n",
        "#     'linesearch' : ['MoreThuente', 'Backtracking', 'StrongBacktracking'],\n",
        "#     'period' : [10,20,8],\n",
        "#     'epsilon' : [1e-5,1e-10,1e-8]\n",
        "# }\n",
        "\n",
        "# # Define CRF model\n",
        "# crf = CRF()\n",
        "\n",
        "# # Define GridSearchCV object\n",
        "# gs = GridSearchCV(crf, params_space, cv=3, verbose=1)\n",
        "\n",
        "# # Fit GridSearchCV object to data\n",
        "# gs.fit(X_train, y_train)\n",
        "\n",
        "# # Print best hyperparameters and score\n",
        "# print(\"Best hyperparameters:\", gs.best_params_)\n",
        "# print(\"Best score:\", gs.best_score_)\n",
        "\n"
      ],
      "metadata": {
        "id": "X2Hu-xmTASTB"
      },
      "execution_count": null,
      "outputs": []
    },
    {
      "cell_type": "code",
      "source": [
        "#Best hyperparameters: {'algorithm': 'lbfgs', 'all_possible_transitions': True, 'c1': 0.1, 'c2': 0.1, 'max_iterations': 50}\n",
        "#Best score: 0.8664383751467778"
      ],
      "metadata": {
        "id": "qKaRmM0LLu8r"
      },
      "execution_count": null,
      "outputs": []
    },
    {
      "cell_type": "code",
      "source": [
        "#TEST DATA\n",
        "row_id_text, texts = read_file('/content/TEST_REVIEW_TEXT.txt')\n",
        "X = [text2features(text) for text in texts]\n",
        "y_pred = crf.predict(X) # inference step"
      ],
      "metadata": {
        "id": "lv42Rxg8RQkT"
      },
      "execution_count": 43,
      "outputs": []
    },
    {
      "cell_type": "code",
      "source": [
        "print(len(y_pred[0]))\n",
        "print(len(y_pred[1]))\n",
        "print(len(row_id_text))"
      ],
      "metadata": {
        "colab": {
          "base_uri": "https://localhost:8080/"
        },
        "id": "Vz38eNTJSWS0",
        "outputId": "9c6040c0-1ac9-4d00-9310-55d2fa7725b9"
      },
      "execution_count": 50,
      "outputs": [
        {
          "output_type": "stream",
          "name": "stdout",
          "text": [
            "20\n",
            "29\n",
            "1259\n"
          ]
        }
      ]
    },
    {
      "cell_type": "code",
      "source": [
        "import pandas as pd\n",
        "#Generate output file\n",
        "a = \"\"\n",
        "index = 0\n",
        "df = pd.DataFrame()\n",
        "df['ID'] = row_id_text\n",
        "df['TAGSEQ'] = y_pred\n",
        "for i in df['TAGSEQ']:\n",
        "  for j in i:\n",
        "      a = a + \" \" + j\n",
        "      \n",
        "  #print(a)\n",
        "  df['TAGSEQ'][index] = a\n",
        "  index+=1\n",
        "  a = \"\"\n",
        "# df.head()"
      ],
      "metadata": {
        "id": "YJcqUBOzTyK2"
      },
      "execution_count": 84,
      "outputs": []
    },
    {
      "cell_type": "code",
      "source": [
        "#Generate output file\n",
        "df.to_csv(\"output_iamsk.txt\", index=None, sep=\"\\t\")"
      ],
      "metadata": {
        "id": "S-l82BHRTiWC"
      },
      "execution_count": 90,
      "outputs": []
    }
  ],
  "metadata": {
    "kernelspec": {
      "display_name": "Python 3 (ipykernel)",
      "language": "python",
      "name": "python3"
    },
    "language_info": {
      "codemirror_mode": {
        "name": "ipython",
        "version": 3
      },
      "file_extension": ".py",
      "mimetype": "text/x-python",
      "name": "python",
      "nbconvert_exporter": "python",
      "pygments_lexer": "ipython3",
      "version": "3.8.8"
    },
    "colab": {
      "provenance": []
    }
  },
  "nbformat": 4,
  "nbformat_minor": 0
}
